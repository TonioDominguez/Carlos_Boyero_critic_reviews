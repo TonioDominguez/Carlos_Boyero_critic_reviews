{
 "cells": [
  {
   "cell_type": "markdown",
   "id": "b20ccfeb-a72f-4471-ab2d-42e0042d04d0",
   "metadata": {
    "tags": []
   },
   "source": [
    "<h2 style=\"color: #327a81;\">Libraries</h2>"
   ]
  },
  {
   "cell_type": "code",
   "execution_count": 1,
   "id": "f430ef0b-82d7-4dfb-96b2-1581affefe66",
   "metadata": {
    "tags": []
   },
   "outputs": [],
   "source": [
    "import pandas as pd \n",
    "import numpy as np\n",
    "\n",
    "import matplotlib.pyplot as plt\n",
    "import seaborn as sns\n",
    "\n",
    "pd.set_option('display.max_columns', None) \n",
    "import warnings\n",
    "warnings.filterwarnings('ignore') \n",
    "\n",
    "import re\n",
    "import nltk\n",
    "from nltk.corpus import stopwords\n",
    "\n",
    "import gensim\n",
    "from gensim.utils import simple_preprocess\n",
    "from gensim.parsing.preprocessing import STOPWORDS"
   ]
  },
  {
   "cell_type": "code",
   "execution_count": 2,
   "id": "5ef76af3-d81c-4e46-af4f-8ae37459722f",
   "metadata": {
    "tags": []
   },
   "outputs": [
    {
     "name": "stdout",
     "output_type": "stream",
     "text": [
      "Requirement already satisfied: sentiment-analysis-spanish in c:\\programdata\\anaconda3\\lib\\site-packages (0.0.25)\n"
     ]
    }
   ],
   "source": [
    "!pip install sentiment-analysis-spanish\n",
    "\n",
    "from sentiment_analysis_spanish import sentiment_analysis"
   ]
  },
  {
   "cell_type": "markdown",
   "id": "6e44d461-f2ef-4fdf-ba56-4c974b7fc3b4",
   "metadata": {
    "tags": []
   },
   "source": [
    "<h2 style=\"color: #327a81;\">Boyero Dataset</h2>"
   ]
  },
  {
   "cell_type": "code",
   "execution_count": 3,
   "id": "c1e637e4-f97a-4fff-8e83-6fbad1ed4c1c",
   "metadata": {
    "tags": []
   },
   "outputs": [],
   "source": [
    "data = pd.read_csv(\"boyero_2020_2024.csv\")"
   ]
  },
  {
   "cell_type": "code",
   "execution_count": 4,
   "id": "aecaf419-0591-4b24-b54d-a3bbbd2c1423",
   "metadata": {
    "tags": []
   },
   "outputs": [],
   "source": [
    "df = data.copy()"
   ]
  },
  {
   "cell_type": "code",
   "execution_count": 5,
   "id": "02e2fae4-3134-4b76-9594-5b1a16e2f748",
   "metadata": {
    "tags": []
   },
   "outputs": [
    {
     "data": {
      "text/html": [
       "<div>\n",
       "<style scoped>\n",
       "    .dataframe tbody tr th:only-of-type {\n",
       "        vertical-align: middle;\n",
       "    }\n",
       "\n",
       "    .dataframe tbody tr th {\n",
       "        vertical-align: top;\n",
       "    }\n",
       "\n",
       "    .dataframe thead th {\n",
       "        text-align: right;\n",
       "    }\n",
       "</style>\n",
       "<table border=\"1\" class=\"dataframe\">\n",
       "  <thead>\n",
       "    <tr style=\"text-align: right;\">\n",
       "      <th></th>\n",
       "      <th>header</th>\n",
       "      <th>paragraph</th>\n",
       "      <th>date</th>\n",
       "    </tr>\n",
       "  </thead>\n",
       "  <tbody>\n",
       "    <tr>\n",
       "      <th>0</th>\n",
       "      <td>‘El mal no existe’: ecologismo a ritmo lento</td>\n",
       "      <td>Ryûsuke Hamaguchi recibió mogollón de nominaci...</td>\n",
       "      <td>2024-05-01</td>\n",
       "    </tr>\n",
       "    <tr>\n",
       "      <th>1</th>\n",
       "      <td>Nadie se acostumbra a su eterno genocidio</td>\n",
       "      <td>Viendo el infierno que arde en tantos lugares ...</td>\n",
       "      <td>2024-04-27</td>\n",
       "    </tr>\n",
       "    <tr>\n",
       "      <th>2</th>\n",
       "      <td>‘El especialista’: un producto previsible y pr...</td>\n",
       "      <td>La nueva película de David Leitch me pareció u...</td>\n",
       "      <td>2024-04-26</td>\n",
       "    </tr>\n",
       "    <tr>\n",
       "      <th>3</th>\n",
       "      <td>Qué cambalache el de cierto arte moderno. Y qu...</td>\n",
       "      <td>Disfruto en medio de tanta y bien pagada corre...</td>\n",
       "      <td>2024-04-20</td>\n",
       "    </tr>\n",
       "    <tr>\n",
       "      <th>4</th>\n",
       "      <td>‘Civil War’: viajando a través del espanto en ...</td>\n",
       "      <td>Todas las contiendas son salvajes, pero las ci...</td>\n",
       "      <td>2024-04-19</td>\n",
       "    </tr>\n",
       "    <tr>\n",
       "      <th>...</th>\n",
       "      <td>...</td>\n",
       "      <td>...</td>\n",
       "      <td>...</td>\n",
       "    </tr>\n",
       "    <tr>\n",
       "      <th>405</th>\n",
       "      <td>El virtuosismo filmando la angustia y el miedo</td>\n",
       "      <td>Sam Mendes, para transmitir esta historia de m...</td>\n",
       "      <td>2020-01-12</td>\n",
       "    </tr>\n",
       "    <tr>\n",
       "      <th>406</th>\n",
       "      <td>El virtuosismo filmando la angustia y el miedo</td>\n",
       "      <td>Sam Mendes, para transmitir esta historia de m...</td>\n",
       "      <td>2020-01-10</td>\n",
       "    </tr>\n",
       "    <tr>\n",
       "      <th>407</th>\n",
       "      <td>Publicidad</td>\n",
       "      <td>Me sulfura tanto la publicidad que estoy conve...</td>\n",
       "      <td>2020-01-11</td>\n",
       "    </tr>\n",
       "    <tr>\n",
       "      <th>408</th>\n",
       "      <td>El Parlamento</td>\n",
       "      <td>La imagen más memorable y épica que tengo del ...</td>\n",
       "      <td>2020-01-08</td>\n",
       "    </tr>\n",
       "    <tr>\n",
       "      <th>409</th>\n",
       "      <td>Un Polanski reflexivo, no emocional</td>\n",
       "      <td>Historia de una estratégica barbarie, una conv...</td>\n",
       "      <td>2020-01-02</td>\n",
       "    </tr>\n",
       "  </tbody>\n",
       "</table>\n",
       "<p>410 rows × 3 columns</p>\n",
       "</div>"
      ],
      "text/plain": [
       "                                                header  \\\n",
       "0         ‘El mal no existe’: ecologismo a ritmo lento   \n",
       "1            Nadie se acostumbra a su eterno genocidio   \n",
       "2    ‘El especialista’: un producto previsible y pr...   \n",
       "3    Qué cambalache el de cierto arte moderno. Y qu...   \n",
       "4    ‘Civil War’: viajando a través del espanto en ...   \n",
       "..                                                 ...   \n",
       "405     El virtuosismo filmando la angustia y el miedo   \n",
       "406     El virtuosismo filmando la angustia y el miedo   \n",
       "407                                         Publicidad   \n",
       "408                                      El Parlamento   \n",
       "409                Un Polanski reflexivo, no emocional   \n",
       "\n",
       "                                             paragraph        date  \n",
       "0    Ryûsuke Hamaguchi recibió mogollón de nominaci...  2024-05-01  \n",
       "1    Viendo el infierno que arde en tantos lugares ...  2024-04-27  \n",
       "2    La nueva película de David Leitch me pareció u...  2024-04-26  \n",
       "3    Disfruto en medio de tanta y bien pagada corre...  2024-04-20  \n",
       "4    Todas las contiendas son salvajes, pero las ci...  2024-04-19  \n",
       "..                                                 ...         ...  \n",
       "405  Sam Mendes, para transmitir esta historia de m...  2020-01-12  \n",
       "406  Sam Mendes, para transmitir esta historia de m...  2020-01-10  \n",
       "407  Me sulfura tanto la publicidad que estoy conve...  2020-01-11  \n",
       "408  La imagen más memorable y épica que tengo del ...  2020-01-08  \n",
       "409  Historia de una estratégica barbarie, una conv...  2020-01-02  \n",
       "\n",
       "[410 rows x 3 columns]"
      ]
     },
     "execution_count": 5,
     "metadata": {},
     "output_type": "execute_result"
    }
   ],
   "source": [
    "df"
   ]
  },
  {
   "cell_type": "code",
   "execution_count": 6,
   "id": "50fbd3a6-a4e4-4c65-985b-1fb0dda91120",
   "metadata": {
    "tags": []
   },
   "outputs": [
    {
     "data": {
      "text/plain": [
       "header       0\n",
       "paragraph    0\n",
       "date         0\n",
       "dtype: int64"
      ]
     },
     "execution_count": 6,
     "metadata": {},
     "output_type": "execute_result"
    }
   ],
   "source": [
    "df.isnull().sum()"
   ]
  },
  {
   "cell_type": "markdown",
   "id": "c482ecf5-ae61-421f-8da5-5b726998f760",
   "metadata": {
    "tags": []
   },
   "source": [
    "<h2 style=\"color: #327a81;\">NLP Preprocessing</h2>"
   ]
  },
  {
   "cell_type": "markdown",
   "id": "a8090b22-669b-4dc9-928c-e9dd2663550d",
   "metadata": {},
   "source": [
    "<h3 style=\"color: #60b671;\">\"header\", \"paragraph\" cleaning to tags</h3>"
   ]
  },
  {
   "cell_type": "code",
   "execution_count": 7,
   "id": "db07cdde-a990-419d-9911-513870915774",
   "metadata": {
    "tags": []
   },
   "outputs": [],
   "source": [
    "stop_words = list(stopwords.words(\"spanish\"))"
   ]
  },
  {
   "cell_type": "code",
   "execution_count": 8,
   "id": "a9f06588-4606-49f9-b891-eee0a08cda1e",
   "metadata": {
    "tags": []
   },
   "outputs": [],
   "source": [
    "stop_words.extend([\"según\", \"ahora\", \"después\", \"todas\", \"toda\", \"todo\", \"todos\", \"sólo\", \"solo\", \"sido\", \"están\",\n",
    "                   \"estan\", \"hacer\", \"hecho\", \"puede\", \"tras\", \"cabe\", \"bajo\", \"durante\", \"mediante\", \"cada\", \"me\",\n",
    "                  \"lunes\", \"martes\", \"miércoles\", \"jueves\", \"viernes\", \"sabado\", \"domingo\"])"
   ]
  },
  {
   "cell_type": "code",
   "execution_count": 9,
   "id": "20f15ef5-b5e0-4adb-9691-8431081986f8",
   "metadata": {
    "tags": []
   },
   "outputs": [],
   "source": [
    "def text_cleaner(text):\n",
    "    words = []\n",
    "    for word in gensim.utils.simple_preprocess(text):\n",
    "        if word not in gensim.parsing.preprocessing.STOPWORDS and word not in stop_words and len(word) >= 3:\n",
    "            words.append(word)\n",
    "    return words"
   ]
  },
  {
   "cell_type": "code",
   "execution_count": 10,
   "id": "bba0933d-e2ca-41ff-919b-1bc993fd56d7",
   "metadata": {
    "tags": []
   },
   "outputs": [],
   "source": [
    "header = df[\"header\"]"
   ]
  },
  {
   "cell_type": "code",
   "execution_count": 11,
   "id": "3cc74f8b-2697-4aaf-959a-f71f071cdf15",
   "metadata": {
    "tags": []
   },
   "outputs": [],
   "source": [
    "header_tags = []\n",
    "\n",
    "for ele in header:\n",
    "    cleaned_header = text_cleaner(ele)\n",
    "    header_tags.append(cleaned_header)"
   ]
  },
  {
   "cell_type": "code",
   "execution_count": 12,
   "id": "c3d7ffe9-a6be-4f4f-993e-d16c6a108757",
   "metadata": {
    "tags": []
   },
   "outputs": [],
   "source": [
    "df[\"header_tags\"] = header_tags"
   ]
  },
  {
   "cell_type": "code",
   "execution_count": 13,
   "id": "555133f0-fdd1-46e9-b2ef-2dd3c74785d2",
   "metadata": {
    "tags": []
   },
   "outputs": [],
   "source": [
    "paragraph = df[\"paragraph\"]"
   ]
  },
  {
   "cell_type": "code",
   "execution_count": 14,
   "id": "3466e3f5-3660-4f15-b055-e41c711e0ce0",
   "metadata": {
    "tags": []
   },
   "outputs": [],
   "source": [
    "paragraph_tags = []\n",
    "\n",
    "for ele in paragraph:\n",
    "    cleaned_paragraph = text_cleaner(ele)\n",
    "    paragraph_tags.append(cleaned_paragraph)"
   ]
  },
  {
   "cell_type": "code",
   "execution_count": 15,
   "id": "42c84295-2c18-4a79-825c-25b1b3d56d98",
   "metadata": {
    "tags": []
   },
   "outputs": [],
   "source": [
    "df[\"paragraph_tags\"] = paragraph_tags"
   ]
  },
  {
   "cell_type": "code",
   "execution_count": 16,
   "id": "be9a1b63-698e-4cd4-b96d-0994bd668a1c",
   "metadata": {
    "tags": []
   },
   "outputs": [
    {
     "data": {
      "text/html": [
       "<div>\n",
       "<style scoped>\n",
       "    .dataframe tbody tr th:only-of-type {\n",
       "        vertical-align: middle;\n",
       "    }\n",
       "\n",
       "    .dataframe tbody tr th {\n",
       "        vertical-align: top;\n",
       "    }\n",
       "\n",
       "    .dataframe thead th {\n",
       "        text-align: right;\n",
       "    }\n",
       "</style>\n",
       "<table border=\"1\" class=\"dataframe\">\n",
       "  <thead>\n",
       "    <tr style=\"text-align: right;\">\n",
       "      <th></th>\n",
       "      <th>header</th>\n",
       "      <th>paragraph</th>\n",
       "      <th>date</th>\n",
       "      <th>header_tags</th>\n",
       "      <th>paragraph_tags</th>\n",
       "    </tr>\n",
       "  </thead>\n",
       "  <tbody>\n",
       "    <tr>\n",
       "      <th>0</th>\n",
       "      <td>‘El mal no existe’: ecologismo a ritmo lento</td>\n",
       "      <td>Ryûsuke Hamaguchi recibió mogollón de nominaci...</td>\n",
       "      <td>2024-05-01</td>\n",
       "      <td>[mal, existe, ecologismo, ritmo, lento]</td>\n",
       "      <td>[ryûsuke, hamaguchi, recibió, mogollón, nomina...</td>\n",
       "    </tr>\n",
       "    <tr>\n",
       "      <th>1</th>\n",
       "      <td>Nadie se acostumbra a su eterno genocidio</td>\n",
       "      <td>Viendo el infierno que arde en tantos lugares ...</td>\n",
       "      <td>2024-04-27</td>\n",
       "      <td>[nadie, acostumbra, eterno, genocidio]</td>\n",
       "      <td>[viendo, infierno, arde, tantos, lugares, univ...</td>\n",
       "    </tr>\n",
       "    <tr>\n",
       "      <th>2</th>\n",
       "      <td>‘El especialista’: un producto previsible y pr...</td>\n",
       "      <td>La nueva película de David Leitch me pareció u...</td>\n",
       "      <td>2024-04-26</td>\n",
       "      <td>[especialista, producto, previsible, prescindi...</td>\n",
       "      <td>[nueva, película, david, leitch, pareció, idio...</td>\n",
       "    </tr>\n",
       "    <tr>\n",
       "      <th>3</th>\n",
       "      <td>Qué cambalache el de cierto arte moderno. Y qu...</td>\n",
       "      <td>Disfruto en medio de tanta y bien pagada corre...</td>\n",
       "      <td>2024-04-20</td>\n",
       "      <td>[cambalache, cierto, arte, moderno, risa]</td>\n",
       "      <td>[disfruto, medio, tanta, bien, pagada, correcc...</td>\n",
       "    </tr>\n",
       "    <tr>\n",
       "      <th>4</th>\n",
       "      <td>‘Civil War’: viajando a través del espanto en ...</td>\n",
       "      <td>Todas las contiendas son salvajes, pero las ci...</td>\n",
       "      <td>2024-04-19</td>\n",
       "      <td>[civil, war, viajando, través, espanto, improb...</td>\n",
       "      <td>[contiendas, salvajes, civiles, añaden, compon...</td>\n",
       "    </tr>\n",
       "  </tbody>\n",
       "</table>\n",
       "</div>"
      ],
      "text/plain": [
       "                                              header  \\\n",
       "0       ‘El mal no existe’: ecologismo a ritmo lento   \n",
       "1          Nadie se acostumbra a su eterno genocidio   \n",
       "2  ‘El especialista’: un producto previsible y pr...   \n",
       "3  Qué cambalache el de cierto arte moderno. Y qu...   \n",
       "4  ‘Civil War’: viajando a través del espanto en ...   \n",
       "\n",
       "                                           paragraph        date  \\\n",
       "0  Ryûsuke Hamaguchi recibió mogollón de nominaci...  2024-05-01   \n",
       "1  Viendo el infierno que arde en tantos lugares ...  2024-04-27   \n",
       "2  La nueva película de David Leitch me pareció u...  2024-04-26   \n",
       "3  Disfruto en medio de tanta y bien pagada corre...  2024-04-20   \n",
       "4  Todas las contiendas son salvajes, pero las ci...  2024-04-19   \n",
       "\n",
       "                                         header_tags  \\\n",
       "0            [mal, existe, ecologismo, ritmo, lento]   \n",
       "1             [nadie, acostumbra, eterno, genocidio]   \n",
       "2  [especialista, producto, previsible, prescindi...   \n",
       "3          [cambalache, cierto, arte, moderno, risa]   \n",
       "4  [civil, war, viajando, través, espanto, improb...   \n",
       "\n",
       "                                      paragraph_tags  \n",
       "0  [ryûsuke, hamaguchi, recibió, mogollón, nomina...  \n",
       "1  [viendo, infierno, arde, tantos, lugares, univ...  \n",
       "2  [nueva, película, david, leitch, pareció, idio...  \n",
       "3  [disfruto, medio, tanta, bien, pagada, correcc...  \n",
       "4  [contiendas, salvajes, civiles, añaden, compon...  "
      ]
     },
     "execution_count": 16,
     "metadata": {},
     "output_type": "execute_result"
    }
   ],
   "source": [
    "df.head(5)"
   ]
  },
  {
   "cell_type": "markdown",
   "id": "2f8bbf37-b71e-433b-8a1c-01899a8c22c4",
   "metadata": {},
   "source": [
    "<h3 style=\"color: #60b671;\">tags to processed texts for ML</h3>"
   ]
  },
  {
   "cell_type": "code",
   "execution_count": 17,
   "id": "7c12b6c9-119a-4a28-b8da-109c177a927c",
   "metadata": {
    "tags": []
   },
   "outputs": [],
   "source": [
    "\n",
    "header_ml = []\n",
    "\n",
    "for tag in header_tags:\n",
    "    header_sum = \" \".join(tag)\n",
    "    header_ml.append(header_sum)"
   ]
  },
  {
   "cell_type": "code",
   "execution_count": 18,
   "id": "87d70d81-ae07-447f-9096-9abb9cd71732",
   "metadata": {
    "tags": []
   },
   "outputs": [],
   "source": [
    "df[\"header_ml\"] = header_ml"
   ]
  },
  {
   "cell_type": "code",
   "execution_count": 19,
   "id": "843051f2-64dd-4374-b564-7188e8c92381",
   "metadata": {
    "tags": []
   },
   "outputs": [],
   "source": [
    "header_ml_temp = df.pop(\"header_ml\")"
   ]
  },
  {
   "cell_type": "code",
   "execution_count": 20,
   "id": "348d25a1-059b-4686-b42f-af94ae8c78dc",
   "metadata": {
    "tags": []
   },
   "outputs": [],
   "source": [
    "df.insert(loc=4, column=\"header_ml\", value=header_ml_temp)"
   ]
  },
  {
   "cell_type": "code",
   "execution_count": 21,
   "id": "e9e7a217-dc98-4c59-9bfd-8aa02b6bde66",
   "metadata": {
    "tags": []
   },
   "outputs": [],
   "source": [
    "paragraph_ml = []\n",
    "\n",
    "for tag in paragraph_tags:\n",
    "    paragraph_sum = \" \".join(tag)\n",
    "    paragraph_ml.append(paragraph_sum)"
   ]
  },
  {
   "cell_type": "code",
   "execution_count": 22,
   "id": "47163949-1489-4709-aff0-956dbbca8b43",
   "metadata": {
    "tags": []
   },
   "outputs": [],
   "source": [
    "df[\"paragraph_ml\"] = paragraph_ml"
   ]
  },
  {
   "cell_type": "code",
   "execution_count": 23,
   "id": "3be9949c-db2f-4824-b80a-52dac7d5e939",
   "metadata": {
    "tags": []
   },
   "outputs": [
    {
     "data": {
      "text/html": [
       "<div>\n",
       "<style scoped>\n",
       "    .dataframe tbody tr th:only-of-type {\n",
       "        vertical-align: middle;\n",
       "    }\n",
       "\n",
       "    .dataframe tbody tr th {\n",
       "        vertical-align: top;\n",
       "    }\n",
       "\n",
       "    .dataframe thead th {\n",
       "        text-align: right;\n",
       "    }\n",
       "</style>\n",
       "<table border=\"1\" class=\"dataframe\">\n",
       "  <thead>\n",
       "    <tr style=\"text-align: right;\">\n",
       "      <th></th>\n",
       "      <th>header</th>\n",
       "      <th>paragraph</th>\n",
       "      <th>date</th>\n",
       "      <th>header_tags</th>\n",
       "      <th>header_ml</th>\n",
       "      <th>paragraph_tags</th>\n",
       "      <th>paragraph_ml</th>\n",
       "    </tr>\n",
       "  </thead>\n",
       "  <tbody>\n",
       "    <tr>\n",
       "      <th>0</th>\n",
       "      <td>‘El mal no existe’: ecologismo a ritmo lento</td>\n",
       "      <td>Ryûsuke Hamaguchi recibió mogollón de nominaci...</td>\n",
       "      <td>2024-05-01</td>\n",
       "      <td>[mal, existe, ecologismo, ritmo, lento]</td>\n",
       "      <td>mal existe ecologismo ritmo lento</td>\n",
       "      <td>[ryûsuke, hamaguchi, recibió, mogollón, nomina...</td>\n",
       "      <td>ryûsuke hamaguchi recibió mogollón nominacione...</td>\n",
       "    </tr>\n",
       "    <tr>\n",
       "      <th>1</th>\n",
       "      <td>Nadie se acostumbra a su eterno genocidio</td>\n",
       "      <td>Viendo el infierno que arde en tantos lugares ...</td>\n",
       "      <td>2024-04-27</td>\n",
       "      <td>[nadie, acostumbra, eterno, genocidio]</td>\n",
       "      <td>nadie acostumbra eterno genocidio</td>\n",
       "      <td>[viendo, infierno, arde, tantos, lugares, univ...</td>\n",
       "      <td>viendo infierno arde tantos lugares universo a...</td>\n",
       "    </tr>\n",
       "    <tr>\n",
       "      <th>2</th>\n",
       "      <td>‘El especialista’: un producto previsible y pr...</td>\n",
       "      <td>La nueva película de David Leitch me pareció u...</td>\n",
       "      <td>2024-04-26</td>\n",
       "      <td>[especialista, producto, previsible, prescindi...</td>\n",
       "      <td>especialista producto previsible prescindible ...</td>\n",
       "      <td>[nueva, película, david, leitch, pareció, idio...</td>\n",
       "      <td>nueva película david leitch pareció idiotez in...</td>\n",
       "    </tr>\n",
       "    <tr>\n",
       "      <th>3</th>\n",
       "      <td>Qué cambalache el de cierto arte moderno. Y qu...</td>\n",
       "      <td>Disfruto en medio de tanta y bien pagada corre...</td>\n",
       "      <td>2024-04-20</td>\n",
       "      <td>[cambalache, cierto, arte, moderno, risa]</td>\n",
       "      <td>cambalache cierto arte moderno risa</td>\n",
       "      <td>[disfruto, medio, tanta, bien, pagada, correcc...</td>\n",
       "      <td>disfruto medio tanta bien pagada corrección po...</td>\n",
       "    </tr>\n",
       "    <tr>\n",
       "      <th>4</th>\n",
       "      <td>‘Civil War’: viajando a través del espanto en ...</td>\n",
       "      <td>Todas las contiendas son salvajes, pero las ci...</td>\n",
       "      <td>2024-04-19</td>\n",
       "      <td>[civil, war, viajando, través, espanto, improb...</td>\n",
       "      <td>civil war viajando través espanto improbable g...</td>\n",
       "      <td>[contiendas, salvajes, civiles, añaden, compon...</td>\n",
       "      <td>contiendas salvajes civiles añaden componente ...</td>\n",
       "    </tr>\n",
       "  </tbody>\n",
       "</table>\n",
       "</div>"
      ],
      "text/plain": [
       "                                              header  \\\n",
       "0       ‘El mal no existe’: ecologismo a ritmo lento   \n",
       "1          Nadie se acostumbra a su eterno genocidio   \n",
       "2  ‘El especialista’: un producto previsible y pr...   \n",
       "3  Qué cambalache el de cierto arte moderno. Y qu...   \n",
       "4  ‘Civil War’: viajando a través del espanto en ...   \n",
       "\n",
       "                                           paragraph        date  \\\n",
       "0  Ryûsuke Hamaguchi recibió mogollón de nominaci...  2024-05-01   \n",
       "1  Viendo el infierno que arde en tantos lugares ...  2024-04-27   \n",
       "2  La nueva película de David Leitch me pareció u...  2024-04-26   \n",
       "3  Disfruto en medio de tanta y bien pagada corre...  2024-04-20   \n",
       "4  Todas las contiendas son salvajes, pero las ci...  2024-04-19   \n",
       "\n",
       "                                         header_tags  \\\n",
       "0            [mal, existe, ecologismo, ritmo, lento]   \n",
       "1             [nadie, acostumbra, eterno, genocidio]   \n",
       "2  [especialista, producto, previsible, prescindi...   \n",
       "3          [cambalache, cierto, arte, moderno, risa]   \n",
       "4  [civil, war, viajando, través, espanto, improb...   \n",
       "\n",
       "                                           header_ml  \\\n",
       "0                  mal existe ecologismo ritmo lento   \n",
       "1                  nadie acostumbra eterno genocidio   \n",
       "2  especialista producto previsible prescindible ...   \n",
       "3                cambalache cierto arte moderno risa   \n",
       "4  civil war viajando través espanto improbable g...   \n",
       "\n",
       "                                      paragraph_tags  \\\n",
       "0  [ryûsuke, hamaguchi, recibió, mogollón, nomina...   \n",
       "1  [viendo, infierno, arde, tantos, lugares, univ...   \n",
       "2  [nueva, película, david, leitch, pareció, idio...   \n",
       "3  [disfruto, medio, tanta, bien, pagada, correcc...   \n",
       "4  [contiendas, salvajes, civiles, añaden, compon...   \n",
       "\n",
       "                                        paragraph_ml  \n",
       "0  ryûsuke hamaguchi recibió mogollón nominacione...  \n",
       "1  viendo infierno arde tantos lugares universo a...  \n",
       "2  nueva película david leitch pareció idiotez in...  \n",
       "3  disfruto medio tanta bien pagada corrección po...  \n",
       "4  contiendas salvajes civiles añaden componente ...  "
      ]
     },
     "execution_count": 23,
     "metadata": {},
     "output_type": "execute_result"
    }
   ],
   "source": [
    "df.head(5)"
   ]
  },
  {
   "cell_type": "markdown",
   "id": "0ea82b47-f698-43b6-b940-f205e8ce482d",
   "metadata": {},
   "source": [
    "<h3 style=\"color: #60b671;\">Tag frequency</h3>"
   ]
  },
  {
   "cell_type": "code",
   "execution_count": 24,
   "id": "e76e19a7-4871-401d-ac28-8613d6df71a0",
   "metadata": {
    "tags": []
   },
   "outputs": [],
   "source": [
    "total_tags = []\n",
    "\n",
    "for tags_list in df[\"header_tags\"] + df[\"paragraph_tags\"]:\n",
    "    for tag in tags_list:\n",
    "        total_tags.append(tag)"
   ]
  },
  {
   "cell_type": "code",
   "execution_count": 25,
   "id": "4125eedd-0991-4601-b972-da876bae05f6",
   "metadata": {
    "tags": []
   },
   "outputs": [],
   "source": [
    "boyero_tags_count = pd.DataFrame(total_tags)"
   ]
  },
  {
   "cell_type": "code",
   "execution_count": 26,
   "id": "50e86929-a01b-44ea-ba6b-0cce79183489",
   "metadata": {
    "tags": []
   },
   "outputs": [],
   "source": [
    "boyero_tags_count = boyero_tags_count.value_counts()"
   ]
  },
  {
   "cell_type": "code",
   "execution_count": 27,
   "id": "bf222ca6-497e-47bf-a41d-19b94217b511",
   "metadata": {
    "tags": []
   },
   "outputs": [
    {
     "data": {
      "text/plain": [
       "película      58\n",
       "tan           55\n",
       "cine          44\n",
       "director      24\n",
       "historia      23\n",
       "películas     22\n",
       "vida          21\n",
       "ser           21\n",
       "años          21\n",
       "aunque        20\n",
       "siempre       19\n",
       "gente         18\n",
       "televisión    17\n",
       "ver           16\n",
       "cosas         16\n",
       "nueva         15\n",
       "casi          15\n",
       "gran          14\n",
       "serie         13\n",
       "amor          13\n",
       "bien          13\n",
       "forma         13\n",
       "política      13\n",
       "gracia        13\n",
       "dos           12\n",
       "hace          12\n",
       "momento       12\n",
       "miedo         12\n",
       "visual        11\n",
       "personajes    11\n",
       "ocurre        11\n",
       "mejor         11\n",
       "señor         11\n",
       "arte          11\n",
       "sensación     10\n",
       "veces         10\n",
       "menos         10\n",
       "estilo        10\n",
       "vez           10\n",
       "posee         10\n",
       "cómo          10\n",
       "hombre        10\n",
       "mundo         10\n",
       "parte         10\n",
       "veo            9\n",
       "pueden         9\n",
       "david          9\n",
       "viendo         9\n",
       "cámara         9\n",
       "llamado        9\n",
       "Name: count, dtype: int64"
      ]
     },
     "execution_count": 27,
     "metadata": {},
     "output_type": "execute_result"
    }
   ],
   "source": [
    "boyero_tags_count.head(50)"
   ]
  },
  {
   "cell_type": "markdown",
   "id": "2fcdb4d2-f882-4696-a0b0-f065b74bf007",
   "metadata": {
    "tags": []
   },
   "source": [
    "<h2 style=\"color: #327a81;\">Text Sentiment Analysis</h2>"
   ]
  },
  {
   "cell_type": "markdown",
   "id": "305b1313-77ed-4cce-85e8-301b9748cb22",
   "metadata": {},
   "source": [
    "<h3 style=\"color: #60b671;\">Header sentiment</h3>"
   ]
  },
  {
   "cell_type": "code",
   "execution_count": 28,
   "id": "af5bc45f-23b8-4fe8-8189-d36642a8b998",
   "metadata": {
    "tags": []
   },
   "outputs": [],
   "source": [
    "sia = sentiment_analysis.SentimentAnalysisSpanish()"
   ]
  },
  {
   "cell_type": "code",
   "execution_count": 29,
   "id": "f8c37e43-8e16-4247-94fd-2d5ad89c236a",
   "metadata": {
    "tags": []
   },
   "outputs": [],
   "source": [
    "sentiment_header = []\n",
    "\n",
    "for index, row in df.iterrows():\n",
    "    sentiment_header.append(sia.sentiment(row[\"header_ml\"]))"
   ]
  },
  {
   "cell_type": "code",
   "execution_count": 30,
   "id": "d40d13b9-9612-4c46-93d7-895e982d7e4d",
   "metadata": {
    "tags": []
   },
   "outputs": [],
   "source": [
    "df[\"numerical_header_sentiment\"] = sentiment_header"
   ]
  },
  {
   "cell_type": "code",
   "execution_count": 31,
   "id": "7eab463b-6610-4664-9030-a51c137ef189",
   "metadata": {
    "tags": []
   },
   "outputs": [],
   "source": [
    "header_sentiment_segmented = []\n",
    "\n",
    "for x in sentiment_header:\n",
    "    if x <= 0.2:\n",
    "        header_sentiment_segmented.append(\"Extremadamente Negativo\")\n",
    "    elif x <= 0.4 and x > 0.2:\n",
    "        header_sentiment_segmented.append(\"Negativo\")\n",
    "    elif x <= 0.6 and x > 0.4:\n",
    "        header_sentiment_segmented.append(\"Neutral\")\n",
    "    elif x <= 0.8 and x > 0.6:\n",
    "        header_sentiment_segmented.append(\"Positivo\")\n",
    "    elif x <= 1 and x > 0.8:\n",
    "        header_sentiment_segmented.append(\"Extremadamente Positivo\")"
   ]
  },
  {
   "cell_type": "code",
   "execution_count": 32,
   "id": "005df3cf-7bf5-4909-bc78-8aba968595b1",
   "metadata": {
    "tags": []
   },
   "outputs": [],
   "source": [
    "df[\"header_sentiment\"] = header_sentiment_segmented"
   ]
  },
  {
   "cell_type": "markdown",
   "id": "bdbf9856-e14a-46db-9c50-d8c78668ea58",
   "metadata": {},
   "source": [
    "<h3 style=\"color: #60b671;\">Paragraph sentiment</h3>"
   ]
  },
  {
   "cell_type": "code",
   "execution_count": 33,
   "id": "0b53c882-79d5-4284-8faf-f5bb08b3bb75",
   "metadata": {
    "tags": []
   },
   "outputs": [],
   "source": [
    "sentiment_paragraph = []\n",
    "\n",
    "for index, row in df.iterrows():\n",
    "    sentiment_paragraph.append(sia.sentiment(row[\"paragraph_ml\"]))"
   ]
  },
  {
   "cell_type": "code",
   "execution_count": 34,
   "id": "8aa74b93-7876-4a16-8716-145305c9b215",
   "metadata": {
    "tags": []
   },
   "outputs": [],
   "source": [
    "df[\"numerical_paragraph_sentiment\"] = sentiment_paragraph"
   ]
  },
  {
   "cell_type": "code",
   "execution_count": 35,
   "id": "93d99de2-1a81-4981-b8da-adda0ddbb14c",
   "metadata": {
    "tags": []
   },
   "outputs": [],
   "source": [
    "paragraph_sentiment_segmented = []\n",
    "\n",
    "for x in sentiment_paragraph:\n",
    "    if x <= 0.2:\n",
    "        paragraph_sentiment_segmented.append(\"Extremadamente Negativo\")\n",
    "    elif x <= 0.4 and x > 0.2:\n",
    "        paragraph_sentiment_segmented.append(\"Negativo\")\n",
    "    elif x <= 0.6 and x > 0.4:\n",
    "        paragraph_sentiment_segmented.append(\"Neutral\")\n",
    "    elif x <= 0.8 and x > 0.6:\n",
    "        paragraph_sentiment_segmented.append(\"Positivo\")\n",
    "    elif x <= 1 and x > 0.8:\n",
    "        paragraph_sentiment_segmented.append(\"Extremadamente Positivo\")"
   ]
  },
  {
   "cell_type": "code",
   "execution_count": 36,
   "id": "e2ea006a-ccee-4b65-8217-aa22048dfe21",
   "metadata": {
    "tags": []
   },
   "outputs": [],
   "source": [
    "df[\"paragraph_sentiment\"] = paragraph_sentiment_segmented"
   ]
  },
  {
   "cell_type": "code",
   "execution_count": 37,
   "id": "9653ff5e-9024-4662-882b-d0b4a87956ba",
   "metadata": {
    "tags": []
   },
   "outputs": [
    {
     "data": {
      "text/html": [
       "<div>\n",
       "<style scoped>\n",
       "    .dataframe tbody tr th:only-of-type {\n",
       "        vertical-align: middle;\n",
       "    }\n",
       "\n",
       "    .dataframe tbody tr th {\n",
       "        vertical-align: top;\n",
       "    }\n",
       "\n",
       "    .dataframe thead th {\n",
       "        text-align: right;\n",
       "    }\n",
       "</style>\n",
       "<table border=\"1\" class=\"dataframe\">\n",
       "  <thead>\n",
       "    <tr style=\"text-align: right;\">\n",
       "      <th></th>\n",
       "      <th>header</th>\n",
       "      <th>paragraph</th>\n",
       "      <th>date</th>\n",
       "      <th>header_tags</th>\n",
       "      <th>header_ml</th>\n",
       "      <th>paragraph_tags</th>\n",
       "      <th>paragraph_ml</th>\n",
       "      <th>numerical_header_sentiment</th>\n",
       "      <th>header_sentiment</th>\n",
       "      <th>numerical_paragraph_sentiment</th>\n",
       "      <th>paragraph_sentiment</th>\n",
       "    </tr>\n",
       "  </thead>\n",
       "  <tbody>\n",
       "    <tr>\n",
       "      <th>0</th>\n",
       "      <td>‘El mal no existe’: ecologismo a ritmo lento</td>\n",
       "      <td>Ryûsuke Hamaguchi recibió mogollón de nominaci...</td>\n",
       "      <td>2024-05-01</td>\n",
       "      <td>[mal, existe, ecologismo, ritmo, lento]</td>\n",
       "      <td>mal existe ecologismo ritmo lento</td>\n",
       "      <td>[ryûsuke, hamaguchi, recibió, mogollón, nomina...</td>\n",
       "      <td>ryûsuke hamaguchi recibió mogollón nominacione...</td>\n",
       "      <td>0.005730</td>\n",
       "      <td>Extremadamente Negativo</td>\n",
       "      <td>0.006328</td>\n",
       "      <td>Extremadamente Negativo</td>\n",
       "    </tr>\n",
       "    <tr>\n",
       "      <th>1</th>\n",
       "      <td>Nadie se acostumbra a su eterno genocidio</td>\n",
       "      <td>Viendo el infierno que arde en tantos lugares ...</td>\n",
       "      <td>2024-04-27</td>\n",
       "      <td>[nadie, acostumbra, eterno, genocidio]</td>\n",
       "      <td>nadie acostumbra eterno genocidio</td>\n",
       "      <td>[viendo, infierno, arde, tantos, lugares, univ...</td>\n",
       "      <td>viendo infierno arde tantos lugares universo a...</td>\n",
       "      <td>0.042256</td>\n",
       "      <td>Extremadamente Negativo</td>\n",
       "      <td>0.110846</td>\n",
       "      <td>Extremadamente Negativo</td>\n",
       "    </tr>\n",
       "    <tr>\n",
       "      <th>2</th>\n",
       "      <td>‘El especialista’: un producto previsible y pr...</td>\n",
       "      <td>La nueva película de David Leitch me pareció u...</td>\n",
       "      <td>2024-04-26</td>\n",
       "      <td>[especialista, producto, previsible, prescindi...</td>\n",
       "      <td>especialista producto previsible prescindible ...</td>\n",
       "      <td>[nueva, película, david, leitch, pareció, idio...</td>\n",
       "      <td>nueva película david leitch pareció idiotez in...</td>\n",
       "      <td>0.106501</td>\n",
       "      <td>Extremadamente Negativo</td>\n",
       "      <td>0.000002</td>\n",
       "      <td>Extremadamente Negativo</td>\n",
       "    </tr>\n",
       "    <tr>\n",
       "      <th>3</th>\n",
       "      <td>Qué cambalache el de cierto arte moderno. Y qu...</td>\n",
       "      <td>Disfruto en medio de tanta y bien pagada corre...</td>\n",
       "      <td>2024-04-20</td>\n",
       "      <td>[cambalache, cierto, arte, moderno, risa]</td>\n",
       "      <td>cambalache cierto arte moderno risa</td>\n",
       "      <td>[disfruto, medio, tanta, bien, pagada, correcc...</td>\n",
       "      <td>disfruto medio tanta bien pagada corrección po...</td>\n",
       "      <td>0.894740</td>\n",
       "      <td>Extremadamente Positivo</td>\n",
       "      <td>0.083657</td>\n",
       "      <td>Extremadamente Negativo</td>\n",
       "    </tr>\n",
       "    <tr>\n",
       "      <th>4</th>\n",
       "      <td>‘Civil War’: viajando a través del espanto en ...</td>\n",
       "      <td>Todas las contiendas son salvajes, pero las ci...</td>\n",
       "      <td>2024-04-19</td>\n",
       "      <td>[civil, war, viajando, través, espanto, improb...</td>\n",
       "      <td>civil war viajando través espanto improbable g...</td>\n",
       "      <td>[contiendas, salvajes, civiles, añaden, compon...</td>\n",
       "      <td>contiendas salvajes civiles añaden componente ...</td>\n",
       "      <td>0.338289</td>\n",
       "      <td>Negativo</td>\n",
       "      <td>0.080884</td>\n",
       "      <td>Extremadamente Negativo</td>\n",
       "    </tr>\n",
       "    <tr>\n",
       "      <th>...</th>\n",
       "      <td>...</td>\n",
       "      <td>...</td>\n",
       "      <td>...</td>\n",
       "      <td>...</td>\n",
       "      <td>...</td>\n",
       "      <td>...</td>\n",
       "      <td>...</td>\n",
       "      <td>...</td>\n",
       "      <td>...</td>\n",
       "      <td>...</td>\n",
       "      <td>...</td>\n",
       "    </tr>\n",
       "    <tr>\n",
       "      <th>405</th>\n",
       "      <td>El virtuosismo filmando la angustia y el miedo</td>\n",
       "      <td>Sam Mendes, para transmitir esta historia de m...</td>\n",
       "      <td>2020-01-12</td>\n",
       "      <td>[virtuosismo, filmando, angustia, miedo]</td>\n",
       "      <td>virtuosismo filmando angustia miedo</td>\n",
       "      <td>[sam, mendes, transmitir, historia, miedo, bar...</td>\n",
       "      <td>sam mendes transmitir historia miedo barro mug...</td>\n",
       "      <td>0.497892</td>\n",
       "      <td>Neutral</td>\n",
       "      <td>0.504743</td>\n",
       "      <td>Neutral</td>\n",
       "    </tr>\n",
       "    <tr>\n",
       "      <th>406</th>\n",
       "      <td>El virtuosismo filmando la angustia y el miedo</td>\n",
       "      <td>Sam Mendes, para transmitir esta historia de m...</td>\n",
       "      <td>2020-01-10</td>\n",
       "      <td>[virtuosismo, filmando, angustia, miedo]</td>\n",
       "      <td>virtuosismo filmando angustia miedo</td>\n",
       "      <td>[sam, mendes, transmitir, historia, miedo, bar...</td>\n",
       "      <td>sam mendes transmitir historia miedo barro mug...</td>\n",
       "      <td>0.497892</td>\n",
       "      <td>Neutral</td>\n",
       "      <td>0.504743</td>\n",
       "      <td>Neutral</td>\n",
       "    </tr>\n",
       "    <tr>\n",
       "      <th>407</th>\n",
       "      <td>Publicidad</td>\n",
       "      <td>Me sulfura tanto la publicidad que estoy conve...</td>\n",
       "      <td>2020-01-11</td>\n",
       "      <td>[publicidad]</td>\n",
       "      <td>publicidad</td>\n",
       "      <td>[sulfura, publicidad, convencido, mensajes, af...</td>\n",
       "      <td>sulfura publicidad convencido mensajes afectan...</td>\n",
       "      <td>0.497892</td>\n",
       "      <td>Neutral</td>\n",
       "      <td>0.161552</td>\n",
       "      <td>Extremadamente Negativo</td>\n",
       "    </tr>\n",
       "    <tr>\n",
       "      <th>408</th>\n",
       "      <td>El Parlamento</td>\n",
       "      <td>La imagen más memorable y épica que tengo del ...</td>\n",
       "      <td>2020-01-08</td>\n",
       "      <td>[parlamento]</td>\n",
       "      <td>parlamento</td>\n",
       "      <td>[imagen, memorable, épica, parlamento, adolfo,...</td>\n",
       "      <td>imagen memorable épica parlamento adolfo suáre...</td>\n",
       "      <td>0.497892</td>\n",
       "      <td>Neutral</td>\n",
       "      <td>0.187815</td>\n",
       "      <td>Extremadamente Negativo</td>\n",
       "    </tr>\n",
       "    <tr>\n",
       "      <th>409</th>\n",
       "      <td>Un Polanski reflexivo, no emocional</td>\n",
       "      <td>Historia de una estratégica barbarie, una conv...</td>\n",
       "      <td>2020-01-02</td>\n",
       "      <td>[polanski, reflexivo, emocional]</td>\n",
       "      <td>polanski reflexivo emocional</td>\n",
       "      <td>[historia, estratégica, barbarie, conveniente,...</td>\n",
       "      <td>historia estratégica barbarie conveniente ment...</td>\n",
       "      <td>0.497892</td>\n",
       "      <td>Neutral</td>\n",
       "      <td>0.148730</td>\n",
       "      <td>Extremadamente Negativo</td>\n",
       "    </tr>\n",
       "  </tbody>\n",
       "</table>\n",
       "<p>410 rows × 11 columns</p>\n",
       "</div>"
      ],
      "text/plain": [
       "                                                header  \\\n",
       "0         ‘El mal no existe’: ecologismo a ritmo lento   \n",
       "1            Nadie se acostumbra a su eterno genocidio   \n",
       "2    ‘El especialista’: un producto previsible y pr...   \n",
       "3    Qué cambalache el de cierto arte moderno. Y qu...   \n",
       "4    ‘Civil War’: viajando a través del espanto en ...   \n",
       "..                                                 ...   \n",
       "405     El virtuosismo filmando la angustia y el miedo   \n",
       "406     El virtuosismo filmando la angustia y el miedo   \n",
       "407                                         Publicidad   \n",
       "408                                      El Parlamento   \n",
       "409                Un Polanski reflexivo, no emocional   \n",
       "\n",
       "                                             paragraph        date  \\\n",
       "0    Ryûsuke Hamaguchi recibió mogollón de nominaci...  2024-05-01   \n",
       "1    Viendo el infierno que arde en tantos lugares ...  2024-04-27   \n",
       "2    La nueva película de David Leitch me pareció u...  2024-04-26   \n",
       "3    Disfruto en medio de tanta y bien pagada corre...  2024-04-20   \n",
       "4    Todas las contiendas son salvajes, pero las ci...  2024-04-19   \n",
       "..                                                 ...         ...   \n",
       "405  Sam Mendes, para transmitir esta historia de m...  2020-01-12   \n",
       "406  Sam Mendes, para transmitir esta historia de m...  2020-01-10   \n",
       "407  Me sulfura tanto la publicidad que estoy conve...  2020-01-11   \n",
       "408  La imagen más memorable y épica que tengo del ...  2020-01-08   \n",
       "409  Historia de una estratégica barbarie, una conv...  2020-01-02   \n",
       "\n",
       "                                           header_tags  \\\n",
       "0              [mal, existe, ecologismo, ritmo, lento]   \n",
       "1               [nadie, acostumbra, eterno, genocidio]   \n",
       "2    [especialista, producto, previsible, prescindi...   \n",
       "3            [cambalache, cierto, arte, moderno, risa]   \n",
       "4    [civil, war, viajando, través, espanto, improb...   \n",
       "..                                                 ...   \n",
       "405           [virtuosismo, filmando, angustia, miedo]   \n",
       "406           [virtuosismo, filmando, angustia, miedo]   \n",
       "407                                       [publicidad]   \n",
       "408                                       [parlamento]   \n",
       "409                   [polanski, reflexivo, emocional]   \n",
       "\n",
       "                                             header_ml  \\\n",
       "0                    mal existe ecologismo ritmo lento   \n",
       "1                    nadie acostumbra eterno genocidio   \n",
       "2    especialista producto previsible prescindible ...   \n",
       "3                  cambalache cierto arte moderno risa   \n",
       "4    civil war viajando través espanto improbable g...   \n",
       "..                                                 ...   \n",
       "405                virtuosismo filmando angustia miedo   \n",
       "406                virtuosismo filmando angustia miedo   \n",
       "407                                         publicidad   \n",
       "408                                         parlamento   \n",
       "409                       polanski reflexivo emocional   \n",
       "\n",
       "                                        paragraph_tags  \\\n",
       "0    [ryûsuke, hamaguchi, recibió, mogollón, nomina...   \n",
       "1    [viendo, infierno, arde, tantos, lugares, univ...   \n",
       "2    [nueva, película, david, leitch, pareció, idio...   \n",
       "3    [disfruto, medio, tanta, bien, pagada, correcc...   \n",
       "4    [contiendas, salvajes, civiles, añaden, compon...   \n",
       "..                                                 ...   \n",
       "405  [sam, mendes, transmitir, historia, miedo, bar...   \n",
       "406  [sam, mendes, transmitir, historia, miedo, bar...   \n",
       "407  [sulfura, publicidad, convencido, mensajes, af...   \n",
       "408  [imagen, memorable, épica, parlamento, adolfo,...   \n",
       "409  [historia, estratégica, barbarie, conveniente,...   \n",
       "\n",
       "                                          paragraph_ml  \\\n",
       "0    ryûsuke hamaguchi recibió mogollón nominacione...   \n",
       "1    viendo infierno arde tantos lugares universo a...   \n",
       "2    nueva película david leitch pareció idiotez in...   \n",
       "3    disfruto medio tanta bien pagada corrección po...   \n",
       "4    contiendas salvajes civiles añaden componente ...   \n",
       "..                                                 ...   \n",
       "405  sam mendes transmitir historia miedo barro mug...   \n",
       "406  sam mendes transmitir historia miedo barro mug...   \n",
       "407  sulfura publicidad convencido mensajes afectan...   \n",
       "408  imagen memorable épica parlamento adolfo suáre...   \n",
       "409  historia estratégica barbarie conveniente ment...   \n",
       "\n",
       "     numerical_header_sentiment         header_sentiment  \\\n",
       "0                      0.005730  Extremadamente Negativo   \n",
       "1                      0.042256  Extremadamente Negativo   \n",
       "2                      0.106501  Extremadamente Negativo   \n",
       "3                      0.894740  Extremadamente Positivo   \n",
       "4                      0.338289                 Negativo   \n",
       "..                          ...                      ...   \n",
       "405                    0.497892                  Neutral   \n",
       "406                    0.497892                  Neutral   \n",
       "407                    0.497892                  Neutral   \n",
       "408                    0.497892                  Neutral   \n",
       "409                    0.497892                  Neutral   \n",
       "\n",
       "     numerical_paragraph_sentiment      paragraph_sentiment  \n",
       "0                         0.006328  Extremadamente Negativo  \n",
       "1                         0.110846  Extremadamente Negativo  \n",
       "2                         0.000002  Extremadamente Negativo  \n",
       "3                         0.083657  Extremadamente Negativo  \n",
       "4                         0.080884  Extremadamente Negativo  \n",
       "..                             ...                      ...  \n",
       "405                       0.504743                  Neutral  \n",
       "406                       0.504743                  Neutral  \n",
       "407                       0.161552  Extremadamente Negativo  \n",
       "408                       0.187815  Extremadamente Negativo  \n",
       "409                       0.148730  Extremadamente Negativo  \n",
       "\n",
       "[410 rows x 11 columns]"
      ]
     },
     "execution_count": 37,
     "metadata": {},
     "output_type": "execute_result"
    }
   ],
   "source": [
    "df"
   ]
  },
  {
   "cell_type": "markdown",
   "id": "ee543267-66ae-43b3-a543-0293de1caa2d",
   "metadata": {
    "tags": []
   },
   "source": [
    "<h2 style=\"color: #327a81;\">Exploring Boyero's Sentiment Analysis</h2>"
   ]
  },
  {
   "cell_type": "markdown",
   "id": "ac068457-f39c-496f-9aa7-4a998ea6e6a2",
   "metadata": {},
   "source": [
    "<h3 style=\"color: #60b671;\">Headlines and Paragraphs counts</h3>"
   ]
  },
  {
   "cell_type": "code",
   "execution_count": 40,
   "id": "a2545d1e-aa63-4504-b32d-d0533acc1d32",
   "metadata": {
    "tags": []
   },
   "outputs": [],
   "source": [
    "sent_header_label = df[\"header_sentiment\"].value_counts()"
   ]
  },
  {
   "cell_type": "code",
   "execution_count": 41,
   "id": "87ca5a14-441e-4c3a-9188-be0f7c5f3790",
   "metadata": {
    "tags": []
   },
   "outputs": [],
   "source": [
    "sent_paragraph_label = df[\"paragraph_sentiment\"].value_counts()"
   ]
  },
  {
   "cell_type": "code",
   "execution_count": 67,
   "id": "016ba4e5-6aa0-4d65-bb23-6527a808dbd6",
   "metadata": {},
   "outputs": [
    {
     "data": {
      "image/png": "[encoded data removed]",
      "text/plain": [
       "<Figure size 800x400 with 1 Axes>"
      ]
     },
     "metadata": {},
     "output_type": "display_data"
    },
    {
     "data": {
      "image/png": "[encoded data removed]",
      "text/plain": [
       "<Figure size 800x400 with 1 Axes>"
      ]
     },
     "metadata": {},
     "output_type": "display_data"
    }
   ],
   "source": [
    "plt.figure(figsize=(8,4))\n",
    "\n",
    "sns.barplot(y=sent_header_label.index, x=sent_header_label.values, palette=\"viridis\")\n",
    "plt.title(\"Títulos de Boyero en El País 2020-2024\")\n",
    "plt.xlabel(\"Número de Títulos\")\n",
    "plt.ylabel(\"Grado de Sentimiento\")\n",
    "plt.show()\n",
    "\n",
    "plt.figure(figsize=(8,4))\n",
    "\n",
    "sns.barplot(y=sent_paragraph_label.index, x=sent_paragraph_label.values, palette=\"viridis\")\n",
    "plt.title(\"Párrafos de Boyero en El País 2020-2024\")\n",
    "plt.xlabel(\"Número de Artículos\")\n",
    "plt.ylabel(\"Grado de Sentimiento\")\n",
    "plt.show()"
   ]
  },
  {
   "cell_type": "markdown",
   "id": "73bc5a19-25d9-463b-bf5f-98c94bfaa574",
   "metadata": {},
   "source": [
    "<h3 style=\"color: #60b671;\">Which are the most extreme items?</h3>"
   ]
  },
  {
   "cell_type": "code",
   "execution_count": 100,
   "id": "0f9d687d-2b36-4a29-acfe-6c52231e2d80",
   "metadata": {
    "tags": []
   },
   "outputs": [
    {
     "data": {
      "text/plain": [
       "[0.00023665840576344088,\n",
       " 0.000681156832975307,\n",
       " 0.000995867906753585,\n",
       " 0.0027894910718434486,\n",
       " 0.004922350312152798]"
      ]
     },
     "execution_count": 100,
     "metadata": {},
     "output_type": "execute_result"
    }
   ],
   "source": [
    "sent_header_min = list(df[\"numerical_header_sentiment\"].sort_values().head(5))\n",
    "sent_header_min"
   ]
  },
  {
   "cell_type": "code",
   "execution_count": 129,
   "id": "41d916e5-a6d8-4385-aa90-3f934f6b5a34",
   "metadata": {
    "tags": []
   },
   "outputs": [
    {
     "data": {
      "text/plain": [
       "46     ‘Saben aquell’: cine creíble, triste y bonito ...\n",
       "50                                      ¿Peor imposible?\n",
       "181    ‘La peor persona del mundo’: pasa la vida y el...\n",
       "240                Lamentable panorama del cine de autor\n",
       "250           El buen rollo de los latinos en Nueva York\n",
       "Name: header, dtype: object"
      ]
     },
     "execution_count": 129,
     "metadata": {},
     "output_type": "execute_result"
    }
   ],
   "source": [
    "df[\"header\"][df[\"numerical_header_sentiment\"].isin(sent_header_min)]"
   ]
  },
  {
   "cell_type": "code",
   "execution_count": 105,
   "id": "8af3465d-afe9-4bea-84f7-fd48eb225ffc",
   "metadata": {
    "tags": []
   },
   "outputs": [
    {
     "data": {
      "text/plain": [
       "[9.366849219858294e-07,\n",
       " 1.5744118981622118e-06,\n",
       " 1.8554836680835343e-06,\n",
       " 1.918083895297295e-06,\n",
       " 1.92603837110089e-06]"
      ]
     },
     "execution_count": 105,
     "metadata": {},
     "output_type": "execute_result"
    }
   ],
   "source": [
    "sent_paragraph_min = list(df[\"numerical_paragraph_sentiment\"].sort_values().head(5))\n",
    "sent_paragraph_min"
   ]
  },
  {
   "cell_type": "code",
   "execution_count": 128,
   "id": "69343da0-dae7-4655-88b0-77ba7f9441f2",
   "metadata": {
    "tags": []
   },
   "outputs": [
    {
     "data": {
      "text/plain": [
       "2      La nueva película de David Leitch me pareció u...\n",
       "99     La triste historia de esta mujer adicta, o la ...\n",
       "173    El nuevo trabajo de Jacques Audiard provoca ci...\n",
       "225    Autor de un cine social, inteligente y antipan...\n",
       "227    El esplendor acompañó durante mucho tiempo al ...\n",
       "Name: paragraph, dtype: object"
      ]
     },
     "execution_count": 128,
     "metadata": {},
     "output_type": "execute_result"
    }
   ],
   "source": [
    "df[\"paragraph\"][df[\"numerical_paragraph_sentiment\"].isin(sent_paragraph_min)]"
   ]
  }
 ],
 "metadata": {
  "kernelspec": {
   "display_name": "Python 3 (ipykernel)",
   "language": "python",
   "name": "python3"
  },
  "language_info": {
   "codemirror_mode": {
    "name": "ipython",
    "version": 3
   },
   "file_extension": ".py",
   "mimetype": "text/x-python",
   "name": "python",
   "nbconvert_exporter": "python",
   "pygments_lexer": "ipython3",
   "version": "3.11.5"
  }
 },
 "nbformat": 4,
 "nbformat_minor": 5
}
